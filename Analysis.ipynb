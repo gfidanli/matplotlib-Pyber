{
 "cells": [
  {
   "cell_type": "code",
   "execution_count": 7,
   "metadata": {},
   "outputs": [
    {
     "name": "stdout",
     "output_type": "stream",
     "text": [
      "           city  driver_count   type\n",
      "0   Richardfort            38  Urban\n",
      "1  Williamsstad            59  Urban\n",
      "2   Port Angela            67  Urban\n",
      "3    Rodneyfort            34  Urban\n",
      "4   West Robert            39  Urban\n",
      "(120, 3)\n",
      "                 city                 date   fare        ride_id\n",
      "0  Lake Jonathanshire  2018-01-14 10:14:22  13.83  5739410935873\n",
      "1  South Michelleport  2018-03-04 18:24:09  30.24  2343912425577\n",
      "2  Port Samanthamouth  2018-02-24 04:29:00  33.44  2005065760003\n",
      "3          Rodneyfort  2018-02-10 23:22:03  23.44  5149245426178\n",
      "4          South Jack  2018-03-06 04:28:35  34.58  3908451377344\n",
      "(2375, 4)\n",
      "New Olivia         1\n",
      "Grahamburgh        1\n",
      "Joneschester       1\n",
      "Reynoldsfurt       1\n",
      "East Kentstad      1\n",
      "Lewishaven         1\n",
      "West Josephberg    1\n",
      "West Kimmouth      1\n",
      "Taylorhaven        1\n",
      "Valentineton       1\n",
      "Name: city, dtype: int64\n",
      "West Angela            39\n",
      "South Karenland        38\n",
      "North Jason            35\n",
      "Liumouth               33\n",
      "Port Frank             33\n",
      "West Robert            31\n",
      "South Phillip          31\n",
      "South Evanton          31\n",
      "South Michelleport     31\n",
      "New Kimberlyborough    30\n",
      "Name: city, dtype: int64\n"
     ]
    }
   ],
   "source": [
    "%matplotlib inline\n",
    "\n",
    "# Dependencies and Setup\n",
    "import matplotlib.pyplot as plt\n",
    "import pandas as pd\n",
    "import numpy as np\n",
    "\n",
    "# Read in data files\n",
    "city_data = pd.read_csv('./data/city_data.csv')\n",
    "ride_data = pd.read_csv('./data/ride_data.csv')\n",
    "\n",
    "print(city_data.head())\n",
    "print(city_data.shape)\n",
    "print(ride_data.head())\n",
    "print(ride_data.shape)\n",
    "\n",
    "print(city_data['city'].value_counts()[:10])\n",
    "print(ride_data['city'].value_counts()[:10])"
   ]
  },
  {
   "cell_type": "code",
   "execution_count": 6,
   "metadata": {},
   "outputs": [
    {
     "name": "stdout",
     "output_type": "stream",
     "text": [
      "                 city                 date   fare        ride_id  \\\n",
      "0  Lake Jonathanshire  2018-01-14 10:14:22  13.83  5739410935873   \n",
      "1  Lake Jonathanshire  2018-04-07 20:51:11  31.25  4441251834598   \n",
      "2  Lake Jonathanshire  2018-03-09 23:45:55  19.89  2389495660448   \n",
      "3  Lake Jonathanshire  2018-04-07 18:09:21  24.28  7796805191168   \n",
      "4  Lake Jonathanshire  2018-01-02 14:14:50  13.89   424254840012   \n",
      "\n",
      "   driver_count   type  \n",
      "0             5  Urban  \n",
      "1             5  Urban  \n",
      "2             5  Urban  \n",
      "3             5  Urban  \n",
      "4             5  Urban  \n",
      "(2375, 6)\n"
     ]
    }
   ],
   "source": [
    "# Merge datasets on city\n",
    "data = ride_data.merge(city_data, on='city')\n",
    "print(data.head())\n",
    "print(data.shape)"
   ]
  },
  {
   "cell_type": "code",
   "execution_count": null,
   "metadata": {},
   "outputs": [],
   "source": []
  }
 ],
 "metadata": {
  "kernelspec": {
   "display_name": "Python 3",
   "language": "python",
   "name": "python3"
  },
  "language_info": {
   "codemirror_mode": {
    "name": "ipython",
    "version": 3
   },
   "file_extension": ".py",
   "mimetype": "text/x-python",
   "name": "python",
   "nbconvert_exporter": "python",
   "pygments_lexer": "ipython3",
   "version": "3.7.3"
  }
 },
 "nbformat": 4,
 "nbformat_minor": 2
}
